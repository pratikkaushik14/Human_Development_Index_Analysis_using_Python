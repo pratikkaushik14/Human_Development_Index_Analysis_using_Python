{
 "cells": [
  {
   "cell_type": "markdown",
   "id": "0d3d8689",
   "metadata": {},
   "source": [
    "<center><h2>Individual Milestone: Bibliography & Resources (UCID 30229287)</h2></center><br>\n",
    "\n",
    "<center><strong>Team 7:</strong> Analysis of Human Development Index (HDI)</center>\n",
    "\n",
    "\n",
    "<b><u>Dataset</u></b><br>\n",
    "\n",
    "<b>Table 1.</b> Human Development Index and its components<br>\n",
    "\n",
    "<b>Dataset URL:</b> https://hdr.undp.org/data-center/human-development-index#/indicies/HDI<br>\n",
    "\n",
    "<b>Dataset Description:</b> This dataset encompasses various facets of human development indices. It includes information on the Human Development Index (HDI) and its components, trends from 1990 to 2021, the Inequality-adjusted HDI, Gender Development Index, Gender Inequality Index, Multidimensional Poverty Index for developing countries, and the Planetary Pressures-adjusted HDI. These tables offer a comprehensive view of human development, covering socio-economic, gender-related, and environmental dimensions, providing a rich resource for analysis and exploration.<br>\n",
    "\n",
    "<b>Dataset Importance:</b> This dataset is crucial for understanding human development through various indices like the Human Development Index (HDI), Gender Inequality Index, and Multidimensional Poverty Index. Covering trends from 1990 to 2021, it offers insights into development evolution over time, with a focus on equity and inclusivity. The inclusion of environmental considerations through the Planetary Pressures-adjusted HDI aligns with the current emphasis on sustainable development. This concise dataset serves as a vital resource for policymakers and researchers aiming to enhance global human development outcomes.\n",
    "Queries\n"
   ]
  },
  {
   "cell_type": "code",
   "execution_count": 13,
   "id": "a0d033ea",
   "metadata": {},
   "outputs": [
    {
     "data": {
      "text/html": [
       "<div>\n",
       "<style scoped>\n",
       "    .dataframe tbody tr th:only-of-type {\n",
       "        vertical-align: middle;\n",
       "    }\n",
       "\n",
       "    .dataframe tbody tr th {\n",
       "        vertical-align: top;\n",
       "    }\n",
       "\n",
       "    .dataframe thead th {\n",
       "        text-align: right;\n",
       "    }\n",
       "</style>\n",
       "<table border=\"1\" class=\"dataframe\">\n",
       "  <thead>\n",
       "    <tr style=\"text-align: right;\">\n",
       "      <th></th>\n",
       "      <th>HDI rank</th>\n",
       "      <th>Country</th>\n",
       "      <th>Human Development Index (HDI)</th>\n",
       "      <th>Life expectancy at birth</th>\n",
       "      <th>Expected years of schooling</th>\n",
       "      <th>Mean years of schooling</th>\n",
       "      <th>Gross national income (GNI) per capita</th>\n",
       "      <th>GNI per capita rank minus HDI rank</th>\n",
       "      <th>HDI rank.1</th>\n",
       "    </tr>\n",
       "  </thead>\n",
       "  <tbody>\n",
       "    <tr>\n",
       "      <th>0</th>\n",
       "      <td>1</td>\n",
       "      <td>Switzerland</td>\n",
       "      <td>0.962</td>\n",
       "      <td>83.9872</td>\n",
       "      <td>16.500299</td>\n",
       "      <td>13.85966</td>\n",
       "      <td>66933.00454</td>\n",
       "      <td>5</td>\n",
       "      <td>3</td>\n",
       "    </tr>\n",
       "    <tr>\n",
       "      <th>1</th>\n",
       "      <td>2</td>\n",
       "      <td>Norway</td>\n",
       "      <td>0.961</td>\n",
       "      <td>83.2339</td>\n",
       "      <td>18.185200</td>\n",
       "      <td>13.00363</td>\n",
       "      <td>64660.10622</td>\n",
       "      <td>6</td>\n",
       "      <td>1</td>\n",
       "    </tr>\n",
       "    <tr>\n",
       "      <th>2</th>\n",
       "      <td>3</td>\n",
       "      <td>Iceland</td>\n",
       "      <td>0.959</td>\n",
       "      <td>82.6782</td>\n",
       "      <td>19.163059</td>\n",
       "      <td>13.76717</td>\n",
       "      <td>55782.04981</td>\n",
       "      <td>11</td>\n",
       "      <td>2</td>\n",
       "    </tr>\n",
       "    <tr>\n",
       "      <th>3</th>\n",
       "      <td>4</td>\n",
       "      <td>Hong Kong, China (SAR)</td>\n",
       "      <td>0.952</td>\n",
       "      <td>85.4734</td>\n",
       "      <td>17.278170</td>\n",
       "      <td>12.22621</td>\n",
       "      <td>62606.84540</td>\n",
       "      <td>6</td>\n",
       "      <td>4</td>\n",
       "    </tr>\n",
       "    <tr>\n",
       "      <th>4</th>\n",
       "      <td>5</td>\n",
       "      <td>Australia</td>\n",
       "      <td>0.951</td>\n",
       "      <td>84.5265</td>\n",
       "      <td>21.054590</td>\n",
       "      <td>12.72682</td>\n",
       "      <td>49238.43335</td>\n",
       "      <td>18</td>\n",
       "      <td>5</td>\n",
       "    </tr>\n",
       "  </tbody>\n",
       "</table>\n",
       "</div>"
      ],
      "text/plain": [
       "   HDI rank                 Country  Human Development Index (HDI)   \\\n",
       "0         1             Switzerland                           0.962   \n",
       "1         2                  Norway                           0.961   \n",
       "2         3                 Iceland                           0.959   \n",
       "3         4  Hong Kong, China (SAR)                           0.952   \n",
       "4         5               Australia                           0.951   \n",
       "\n",
       "   Life expectancy at birth  Expected years of schooling  \\\n",
       "0                   83.9872                    16.500299   \n",
       "1                   83.2339                    18.185200   \n",
       "2                   82.6782                    19.163059   \n",
       "3                   85.4734                    17.278170   \n",
       "4                   84.5265                    21.054590   \n",
       "\n",
       "   Mean years of schooling  Gross national income (GNI) per capita  \\\n",
       "0                 13.85966                             66933.00454   \n",
       "1                 13.00363                             64660.10622   \n",
       "2                 13.76717                             55782.04981   \n",
       "3                 12.22621                             62606.84540   \n",
       "4                 12.72682                             49238.43335   \n",
       "\n",
       "   GNI per capita rank minus HDI rank  HDI rank.1  \n",
       "0                                   5           3  \n",
       "1                                   6           1  \n",
       "2                                  11           2  \n",
       "3                                   6           4  \n",
       "4                                  18           5  "
      ]
     },
     "execution_count": 13,
     "metadata": {},
     "output_type": "execute_result"
    }
   ],
   "source": [
    "# Import the pandas library and alias it as 'pd'\n",
    "import pandas as pd\n",
    "\n",
    "# Read the data from the CSV file named \"HDI_Table1.csv\" into a DataFrame named 'cpl_locations'\n",
    "cpl_locations = pd.read_csv(\"HDI_Table1.csv\")\n",
    "\n",
    "# Display the first 5 rows of the DataFrame to provide a quick overview of the loaded data\n",
    "cpl_locations.head(5)"
   ]
  },
  {
   "cell_type": "code",
   "execution_count": 2,
   "id": "4416de21",
   "metadata": {},
   "outputs": [
    {
     "data": {
      "text/html": [
       "<div>\n",
       "<style scoped>\n",
       "    .dataframe tbody tr th:only-of-type {\n",
       "        vertical-align: middle;\n",
       "    }\n",
       "\n",
       "    .dataframe tbody tr th {\n",
       "        vertical-align: top;\n",
       "    }\n",
       "\n",
       "    .dataframe thead th {\n",
       "        text-align: right;\n",
       "    }\n",
       "</style>\n",
       "<table border=\"1\" class=\"dataframe\">\n",
       "  <thead>\n",
       "    <tr style=\"text-align: right;\">\n",
       "      <th></th>\n",
       "      <th>HDIRank_2021</th>\n",
       "      <th>country</th>\n",
       "      <th>hdi_value_index</th>\n",
       "      <th>life_expectancy_at_birth</th>\n",
       "      <th>expected_years_of_schooling</th>\n",
       "      <th>mean_years_of_schooling</th>\n",
       "      <th>gni_per_capita</th>\n",
       "      <th>gni_per_capita_minus_rank</th>\n",
       "      <th>HDIRank_2020</th>\n",
       "    </tr>\n",
       "  </thead>\n",
       "  <tbody>\n",
       "    <tr>\n",
       "      <th>0</th>\n",
       "      <td>1</td>\n",
       "      <td>Switzerland</td>\n",
       "      <td>0.962</td>\n",
       "      <td>83.9872</td>\n",
       "      <td>16.500299</td>\n",
       "      <td>13.85966</td>\n",
       "      <td>66933.00454</td>\n",
       "      <td>5</td>\n",
       "      <td>3</td>\n",
       "    </tr>\n",
       "    <tr>\n",
       "      <th>1</th>\n",
       "      <td>2</td>\n",
       "      <td>Norway</td>\n",
       "      <td>0.961</td>\n",
       "      <td>83.2339</td>\n",
       "      <td>18.185200</td>\n",
       "      <td>13.00363</td>\n",
       "      <td>64660.10622</td>\n",
       "      <td>6</td>\n",
       "      <td>1</td>\n",
       "    </tr>\n",
       "    <tr>\n",
       "      <th>2</th>\n",
       "      <td>3</td>\n",
       "      <td>Iceland</td>\n",
       "      <td>0.959</td>\n",
       "      <td>82.6782</td>\n",
       "      <td>19.163059</td>\n",
       "      <td>13.76717</td>\n",
       "      <td>55782.04981</td>\n",
       "      <td>11</td>\n",
       "      <td>2</td>\n",
       "    </tr>\n",
       "    <tr>\n",
       "      <th>3</th>\n",
       "      <td>4</td>\n",
       "      <td>Hong Kong, China (SAR)</td>\n",
       "      <td>0.952</td>\n",
       "      <td>85.4734</td>\n",
       "      <td>17.278170</td>\n",
       "      <td>12.22621</td>\n",
       "      <td>62606.84540</td>\n",
       "      <td>6</td>\n",
       "      <td>4</td>\n",
       "    </tr>\n",
       "    <tr>\n",
       "      <th>4</th>\n",
       "      <td>5</td>\n",
       "      <td>Australia</td>\n",
       "      <td>0.951</td>\n",
       "      <td>84.5265</td>\n",
       "      <td>21.054590</td>\n",
       "      <td>12.72682</td>\n",
       "      <td>49238.43335</td>\n",
       "      <td>18</td>\n",
       "      <td>5</td>\n",
       "    </tr>\n",
       "  </tbody>\n",
       "</table>\n",
       "</div>"
      ],
      "text/plain": [
       "   HDIRank_2021                 country  hdi_value_index  \\\n",
       "0             1             Switzerland            0.962   \n",
       "1             2                  Norway            0.961   \n",
       "2             3                 Iceland            0.959   \n",
       "3             4  Hong Kong, China (SAR)            0.952   \n",
       "4             5               Australia            0.951   \n",
       "\n",
       "   life_expectancy_at_birth  expected_years_of_schooling  \\\n",
       "0                   83.9872                    16.500299   \n",
       "1                   83.2339                    18.185200   \n",
       "2                   82.6782                    19.163059   \n",
       "3                   85.4734                    17.278170   \n",
       "4                   84.5265                    21.054590   \n",
       "\n",
       "   mean_years_of_schooling  gni_per_capita  gni_per_capita_minus_rank  \\\n",
       "0                 13.85966     66933.00454                          5   \n",
       "1                 13.00363     64660.10622                          6   \n",
       "2                 13.76717     55782.04981                         11   \n",
       "3                 12.22621     62606.84540                          6   \n",
       "4                 12.72682     49238.43335                         18   \n",
       "\n",
       "   HDIRank_2020  \n",
       "0             3  \n",
       "1             1  \n",
       "2             2  \n",
       "3             4  \n",
       "4             5  "
      ]
     },
     "execution_count": 2,
     "metadata": {},
     "output_type": "execute_result"
    }
   ],
   "source": [
    "# Dictionary mapping old column names to new column names\n",
    "new_column_names = {\n",
    "    'HDI rank': 'HDIRank_2021',\n",
    "    'Country': 'country',\n",
    "    'Human Development Index (HDI) ':'hdi_value_index', \n",
    "    'Life expectancy at birth':'life_expectancy_at_birth', \n",
    "    'Expected years of schooling':'expected_years_of_schooling',\n",
    "    'Mean years of schooling':'mean_years_of_schooling',\n",
    "    'Gross national income (GNI) per capita': 'gni_per_capita',\n",
    "    'GNI per capita rank minus HDI rank' : 'gni_per_capita_minus_rank',\n",
    "    'HDI rank.1': 'HDIRank_2020'\n",
    "}\n",
    "\n",
    "# Use the rename method to rename the columns in the DataFrame 'cpl_locations'\n",
    "# inplace=True modifies the DataFrame in place\n",
    "cpl_locations.rename(columns=new_column_names, inplace=True)\n",
    "\n",
    "# Display the first 5 rows of the DataFrame with the updated column names\n",
    "cpl_locations.head(5)\n"
   ]
  },
  {
   "cell_type": "code",
   "execution_count": 3,
   "id": "f34b5aa3",
   "metadata": {},
   "outputs": [
    {
     "data": {
      "text/plain": [
       "<mysql.connector.connection.MySQLConnection at 0x1782979ed90>"
      ]
     },
     "execution_count": 3,
     "metadata": {},
     "output_type": "execute_result"
    }
   ],
   "source": [
    "# Import the mysql.connector library\n",
    "import mysql.connector\n",
    "\n",
    "# Import the errorcode module from mysql.connector\n",
    "from mysql.connector import errorcode\n",
    "\n",
    "# Establish a connection to the MySQL database\n",
    "myconnection = mysql.connector.connect(\n",
    "    user='prateek_kaushik',          # Username for database access\n",
    "    password='YJBqdnSlqmk6F',        # Password for database access\n",
    "    host='datasciencedb2.ucalgary.ca',  # Hostname or IP address of the MySQL server\n",
    "    database='prateek_kaushik',      # Name of the database to connect to\n",
    "    allow_local_infile=True          # Allow the use of local infile loading\n",
    ")\n",
    "\n",
    "# Display the connection object, showing details about the established connection\n",
    "myconnection\n"
   ]
  },
  {
   "cell_type": "code",
   "execution_count": 4,
   "id": "1ea5599d",
   "metadata": {},
   "outputs": [
    {
     "name": "stdout",
     "output_type": "stream",
     "text": [
      "Oops! We already have that table!\n"
     ]
    },
    {
     "data": {
      "text/plain": [
       "True"
      ]
     },
     "execution_count": 4,
     "metadata": {},
     "output_type": "execute_result"
    }
   ],
   "source": [
    "# SQL query to create a table named 'hdi_index_components'\n",
    "create_table_query = '''create table prateek_kaushik.hdi_index_components(\n",
    "    HDIRank_2021 int NOT NULL,\n",
    "    country varchar(40),\n",
    "    hdi_index_components float, \n",
    "    life_expectancy_at_birth float,\n",
    "    expected_years_of_schooling float,\n",
    "    mean_years_of_schooling float,\n",
    "    gni_per_capita float,\n",
    "    gni_per_capita_minus_rank int,\n",
    "    HDIRank_2020 int,\n",
    "    created_at time,\n",
    "    updated_at time\n",
    "    );'''\n",
    "\n",
    "# Create a cursor object for executing SQL queries\n",
    "create_cursor = myconnection.cursor()\n",
    "\n",
    "try:\n",
    "    # Execute the CREATE TABLE query\n",
    "    create_cursor.execute(create_table_query)\n",
    "except mysql.connector.Error as err:\n",
    "    # Handle specific error cases\n",
    "    if err.errno == errorcode.ER_TABLE_EXISTS_ERROR:\n",
    "        print('Oops! We already have that table!')\n",
    "    else:\n",
    "        print(err.msg)\n",
    "else:\n",
    "    # If the table creation is successful, print a success message\n",
    "    print('Table Created Successfully!')\n",
    "\n",
    "# Close the cursor to release resources\n",
    "create_cursor.close()\n"
   ]
  },
  {
   "cell_type": "code",
   "execution_count": 5,
   "id": "263e9b7f",
   "metadata": {},
   "outputs": [
    {
     "name": "stdout",
     "output_type": "stream",
     "text": [
      "['HDIRank_2021', 'country', 'hdi_value_index', 'life_expectancy_at_birth', 'expected_years_of_schooling', 'mean_years_of_schooling', 'gni_per_capita', 'gni_per_capita_minus_rank', 'HDIRank_2020']\n"
     ]
    }
   ],
   "source": [
    "# Print the column names of the DataFrame as a list\n",
    "# This line provides a quick overview of the columns present in the DataFrame\n",
    "# It helps in understanding the structure of the dataset\n",
    "print(cpl_locations.columns.tolist())"
   ]
  },
  {
   "cell_type": "code",
   "execution_count": 6,
   "id": "752d50c0",
   "metadata": {},
   "outputs": [
    {
     "name": "stdout",
     "output_type": "stream",
     "text": [
      "HDIRank_2021\n",
      "country\n",
      "hdi_value_index\n",
      "life_expectancy_at_birth\n",
      "expected_years_of_schooling\n",
      "mean_years_of_schooling\n",
      "gni_per_capita\n",
      "gni_per_capita_minus_rank\n",
      "HDIRank_2020\n",
      "created_at\n",
      "updated_at\n"
     ]
    },
    {
     "data": {
      "text/plain": [
       "True"
      ]
     },
     "execution_count": 6,
     "metadata": {},
     "output_type": "execute_result"
    }
   ],
   "source": [
    "# SQL query to retrieve column information for the table 'hdi_index_components'\n",
    "show_column_in_table = '''SHOW COLUMNS FROM prateek_kaushik.hdi_index_components;'''\n",
    "\n",
    "# Create a cursor for executing SQL queries\n",
    "show_cursor = myconnection.cursor()\n",
    "\n",
    "try:\n",
    "    # Execute the SHOW COLUMNS query\n",
    "    show_cursor.execute(show_column_in_table)\n",
    "    \n",
    "    # Fetch all the rows (column information)\n",
    "    columns = show_cursor.fetchall()\n",
    "    \n",
    "    # Print column names\n",
    "    for column in columns:\n",
    "        # Access the first element of the tuple (column name) and print it\n",
    "        print(column[0])\n",
    "\n",
    "except mysql.connector.Error as err:\n",
    "    # Handle MySQL errors\n",
    "    if err.errno == errorcode.ER_BAD_DB_ERROR:\n",
    "        print('Error in query: Bad database')\n",
    "    else:\n",
    "        print(err.msg)\n",
    "\n",
    "finally:\n",
    "    # Close the cursor to release resources\n",
    "    show_cursor.close()\n"
   ]
  },
  {
   "cell_type": "markdown",
   "id": "54a90ebd",
   "metadata": {},
   "source": [
    "Before inserting the data into the SQL table, let us first check whether the `created_at` and `updated_at` are enabled for CURRENT_TIMESTAMP or not."
   ]
  },
  {
   "cell_type": "code",
   "execution_count": 9,
   "id": "8cc8ded9",
   "metadata": {},
   "outputs": [
    {
     "name": "stdout",
     "output_type": "stream",
     "text": [
      "created_at default value: NULL\n",
      "updated_at default value: NULL\n"
     ]
    }
   ],
   "source": [
    "# SQL query to retrieve column information for 'created_at' and 'updated_at' columns in the table 'hdi_index_components'\n",
    "verify_column_query = ''' SELECT COLUMN_NAME, COLUMN_DEFAULT \n",
    "                          FROM information_schema.COLUMNS\n",
    "                          WHERE TABLE_SCHEMA = 'prateek_kaushik'\n",
    "                          AND TABLE_NAME = 'hdi_index_components'\n",
    "                          AND COLUMN_NAME IN ('created_at', 'updated_at');'''\n",
    "\n",
    "# Create a cursor for executing SQL queries\n",
    "verify_cursor = myconnection.cursor()\n",
    "\n",
    "try:\n",
    "    # Execute the SQL query to verify column information\n",
    "    verify_cursor.execute(verify_column_query)\n",
    "\n",
    "    # Fetch all the rows (column information)\n",
    "    rows = verify_cursor.fetchall()\n",
    "\n",
    "    # Print or process the fetched rows\n",
    "    for row in rows:\n",
    "        # Print the column name and its default value\n",
    "        print(f\"{row[0]} default value: {row[1]}\")\n",
    "\n",
    "except mysql.connector.Error as err:\n",
    "    # Handle MySQL errors\n",
    "    if err.errno == errorcode.ER_BAD_DB_ERROR:\n",
    "        print('Error in query: Bad database')\n",
    "    else:\n",
    "        print(err.msg)\n",
    "\n",
    "finally:\n",
    "    # Close the cursor to release resources\n",
    "    verify_cursor.close()\n"
   ]
  },
  {
   "cell_type": "markdown",
   "id": "18b9f3d9",
   "metadata": {},
   "source": [
    "The result indicates that the created_at and updated_at columns currently have NULL as their default values, which means they do not have explicit default values set.\n",
    "\n",
    "Let us alter these columns to use the CURRENT_TIMESTAMP default value, we can use the ALTER TABLE statement."
   ]
  },
  {
   "cell_type": "code",
   "execution_count": 10,
   "id": "c289eb57",
   "metadata": {},
   "outputs": [
    {
     "name": "stdout",
     "output_type": "stream",
     "text": [
      "Table altered successfully.\n"
     ]
    },
    {
     "data": {
      "text/plain": [
       "True"
      ]
     },
     "execution_count": 10,
     "metadata": {},
     "output_type": "execute_result"
    }
   ],
   "source": [
    "# SQL query to alter the 'created_at' and 'updated_at' columns in the table 'hdi_index_components'\n",
    "alter_table_query = '''ALTER TABLE prateek_kaushik.hdi_index_components \n",
    "                       MODIFY created_at TIMESTAMP DEFAULT CURRENT_TIMESTAMP,\n",
    "                       MODIFY updated_at TIMESTAMP DEFAULT CURRENT_TIMESTAMP ON UPDATE CURRENT_TIMESTAMP;'''\n",
    "\n",
    "# Create a cursor for executing SQL queries\n",
    "alter_cursor = myconnection.cursor()\n",
    "\n",
    "try:\n",
    "    # Execute the SQL query to alter the table\n",
    "    alter_cursor.execute(alter_table_query)\n",
    "except mysql.connector.Error as err:\n",
    "    # Handle MySQL errors\n",
    "    if err.errno == errorcode.ER_BAD_DB_ERROR:\n",
    "        print('Error in query: Bad database')\n",
    "    else:\n",
    "        print(err.msg)\n",
    "else:\n",
    "    # If the ALTER TABLE query is successful, print a success message\n",
    "    print('Table altered successfully.')\n",
    "\n",
    "finally:\n",
    "    # Close the cursor to release resources\n",
    "    alter_cursor.close()\n"
   ]
  },
  {
   "cell_type": "markdown",
   "id": "8264037a",
   "metadata": {},
   "source": [
    "Now let us check the types of `created_at` and `updated_at` whether they've been modified or not!"
   ]
  },
  {
   "cell_type": "code",
   "execution_count": 11,
   "id": "d751dd36",
   "metadata": {},
   "outputs": [
    {
     "name": "stdout",
     "output_type": "stream",
     "text": [
      "created_at default value: current_timestamp()\n",
      "updated_at default value: current_timestamp()\n"
     ]
    }
   ],
   "source": [
    "# SQL query to retrieve information about columns in the table 'hdi_index_components'\n",
    "verify_column_query = '''SELECT COLUMN_NAME, COLUMN_DEFAULT\n",
    "                         FROM information_schema.COLUMNS\n",
    "                         WHERE TABLE_SCHEMA = 'prateek_kaushik'\n",
    "                         AND TABLE_NAME = 'hdi_index_components'\n",
    "                         AND COLUMN_NAME IN ('created_at', 'updated_at');'''\n",
    "\n",
    "# Create a cursor for executing SQL queries\n",
    "verify_cursor = myconnection.cursor()\n",
    "\n",
    "try:\n",
    "    # Execute the SQL query to retrieve column information\n",
    "    verify_cursor.execute(verify_column_query)\n",
    "\n",
    "    # Fetch all the rows\n",
    "    rows = verify_cursor.fetchall()\n",
    "\n",
    "    # Print or process the fetched rows\n",
    "    for row in rows:\n",
    "        # Print the column name and its default value\n",
    "        print(f\"{row[0]} default value: {row[1]}\")\n",
    "\n",
    "except mysql.connector.Error as err:\n",
    "    # Handle MySQL errors\n",
    "    if err.errno == errorcode.ER_BAD_DB_ERROR:\n",
    "        print('Error in query: Bad database')\n",
    "    else:\n",
    "        print(err.msg)\n",
    "\n",
    "finally:\n",
    "    # Close the cursor to release resources\n",
    "    verify_cursor.close()\n"
   ]
  },
  {
   "cell_type": "markdown",
   "id": "724e3e9f",
   "metadata": {},
   "source": [
    "The alteration of the table has been successfully completed, enabling us to proceed with the insertion of data into the table."
   ]
  },
  {
   "cell_type": "code",
   "execution_count": 12,
   "id": "0478f40f",
   "metadata": {},
   "outputs": [
    {
     "data": {
      "text/plain": [
       "True"
      ]
     },
     "execution_count": 12,
     "metadata": {},
     "output_type": "execute_result"
    }
   ],
   "source": [
    "# Create a cursor for executing SQL queries\n",
    "insertCursor = myconnection.cursor()\n",
    "\n",
    "# Convert column names to a string for SQL query\n",
    "columnString = \"`,`\".join([str(currentColumn) for currentColumn in cpl_locations.columns.tolist()])\n",
    "\n",
    "# Iterate through rows in the DataFrame and insert each row into the table\n",
    "for i, currentRow in cpl_locations.iterrows():\n",
    "    # Construct the SQL INSERT command dynamically\n",
    "    insertCommand = \"INSERT INTO `hdi_index_components` (`\" + columnString + \"`) VALUES (\" + \"%s,\" * (len(currentRow) - 1) + \"%s)\"\n",
    "    \n",
    "    # Execute the INSERT command with the values from the current row\n",
    "    insertCursor.execute(insertCommand, tuple(currentRow))\n",
    "\n",
    "# Commit the changes to the database\n",
    "myconnection.commit()\n",
    "\n",
    "# Close the cursor to release resources\n",
    "insertCursor.close()\n"
   ]
  },
  {
   "cell_type": "markdown",
   "id": "5ab821d2",
   "metadata": {},
   "source": [
    "The code performs bulk insertion of data from a Pandas DataFrame (cpl_locations) into a MySQL table named hdi_index_components. It dynamically constructs and executes SQL INSERT commands for each row, facilitating efficient data transfer. The process is completed by committing the changes to the database, ensuring the successful integration of the dataset into the specified MySQL table."
   ]
  },
  {
   "cell_type": "code",
   "execution_count": 13,
   "id": "c6fd4767",
   "metadata": {},
   "outputs": [
    {
     "name": "stdout",
     "output_type": "stream",
     "text": [
      "(1, 'Switzerland', 0.962, 83.9872, 16.5003, 13.8597, 66933.0, 5, 3, datetime.datetime(2023, 11, 20, 18, 54, 14), datetime.datetime(2023, 11, 20, 18, 54, 14))\n",
      "(2, 'Norway', 0.961, 83.2339, 18.1852, 13.0036, 64660.1, 6, 1, datetime.datetime(2023, 11, 20, 18, 54, 14), datetime.datetime(2023, 11, 20, 18, 54, 14))\n",
      "(3, 'Iceland', 0.959, 82.6782, 19.1631, 13.7672, 55782.1, 11, 2, datetime.datetime(2023, 11, 20, 18, 54, 14), datetime.datetime(2023, 11, 20, 18, 54, 14))\n",
      "(4, 'Hong Kong, China (SAR)', 0.952, 85.4734, 17.2782, 12.2262, 62606.8, 6, 4, datetime.datetime(2023, 11, 20, 18, 54, 14), datetime.datetime(2023, 11, 20, 18, 54, 14))\n",
      "(5, 'Australia', 0.951, 84.5265, 21.0546, 12.7268, 49238.4, 18, 5, datetime.datetime(2023, 11, 20, 18, 54, 14), datetime.datetime(2023, 11, 20, 18, 54, 14))\n"
     ]
    },
    {
     "data": {
      "text/plain": [
       "True"
      ]
     },
     "execution_count": 13,
     "metadata": {},
     "output_type": "execute_result"
    }
   ],
   "source": [
    "# Define the SELECT query to retrieve the first 5 rows from the table\n",
    "select_query = '''SELECT * FROM prateek_kaushik.hdi_index_components LIMIT 5;'''\n",
    "\n",
    "# Create a cursor for executing SQL queries\n",
    "select_cursor = myconnection.cursor()\n",
    "\n",
    "try:\n",
    "    # Execute the SELECT query\n",
    "    select_cursor.execute(select_query)\n",
    "    \n",
    "    # Fetch all the rows from the result set\n",
    "    rows = select_cursor.fetchall()\n",
    "    \n",
    "    # Print or process the fetched rows\n",
    "    for row in rows:\n",
    "        print(row)\n",
    "\n",
    "except mysql.connector.Error as err:\n",
    "    # Handle MySQL errors\n",
    "    if err.errno == errorcode.ER_BAD_DB_ERROR:\n",
    "        print('Error in query')\n",
    "    else:\n",
    "        print(err.msg)\n",
    "\n",
    "finally:\n",
    "    # Close the cursor to release resources\n",
    "    select_cursor.close()\n"
   ]
  },
  {
   "cell_type": "markdown",
   "id": "be57e04f",
   "metadata": {},
   "source": [
    "The provided code executes a SELECT query, retrieving the most recent five rows. The cursor fetches and prints each row, offering a verification step to confirm the successful insertion of records into the specified MySQL table. Additionally, the code reflects an optimization step undertaken before data insertion, involving an ALTER TABLE command to modify the 'created_at' and 'updated_at' columns. These alterations ensure that the columns are of the TIMESTAMP type with default values set to CURRENT_TIMESTAMP, enhancing data integrity and efficiency. Consequently, the SELECT query output provides a comprehensive view of the recently inserted data and the impact of the optimization on the 'created_at' and 'updated_at' columns."
   ]
  },
  {
   "cell_type": "code",
   "execution_count": 17,
   "id": "b1f22259",
   "metadata": {},
   "outputs": [
    {
     "name": "stdout",
     "output_type": "stream",
     "text": [
      "('Switzerland', 0.962, 66933.0)\n",
      "('Norway', 0.961, 64660.1)\n",
      "('Iceland', 0.959, 55782.1)\n",
      "('Hong Kong, China (SAR)', 0.952, 62606.8)\n",
      "('Australia', 0.951, 49238.4)\n",
      "('Denmark', 0.948, 60364.8)\n",
      "('Sweden', 0.947, 54489.4)\n",
      "('Ireland', 0.945, 76169.0)\n",
      "('Germany', 0.942, 54534.2)\n"
     ]
    },
    {
     "data": {
      "text/plain": [
       "True"
      ]
     },
     "execution_count": 17,
     "metadata": {},
     "output_type": "execute_result"
    }
   ],
   "source": [
    "# Define the SQL query to retrieve specific columns from the top 10 countries based on HDI ranking\n",
    "top_10_countries = '''SELECT hdi.country, hdi.hdi_value_index, hdi.gni_per_capita\n",
    "                      FROM hdi_index_components hdi\n",
    "                      INNER JOIN hdi_index_components gni ON hdi.country = gni.country\n",
    "                      WHERE hdi.HDIRank_2021 < 10;'''\n",
    "\n",
    "# Create a cursor for executing SQL queries\n",
    "top_10_cursor = myconnection.cursor()\n",
    "\n",
    "try:\n",
    "    # Execute the SQL query\n",
    "    top_10_cursor.execute(top_10_countries)\n",
    "    \n",
    "    # Fetch all the rows from the result set\n",
    "    rows = top_10_cursor.fetchall()\n",
    "    \n",
    "    # Print or process the fetched rows\n",
    "    for row in rows:\n",
    "        print(row)\n",
    "\n",
    "except mysql.connector.Error as err:\n",
    "    # Handle MySQL-specific errors\n",
    "    if err.errno == errorcode.ER_BAD_DB_ERROR:\n",
    "        print('Error in query')\n",
    "    else:\n",
    "        print(err.msg)\n",
    "\n",
    "finally:\n",
    "    # Close the cursor to release resources\n",
    "    top_10_cursor.close()\n"
   ]
  },
  {
   "cell_type": "markdown",
   "id": "d442c68a",
   "metadata": {},
   "source": [
    "<b>Query Purpose:</b>\n",
    "The above SQL query identifies and retrieves data on the top 10 countries with the highest Human Development Index (HDI) ranks in 2021.\n",
    "\n",
    "<b>Summary:</b>\n",
    "The result includes key information such as HDI values and Gross National Income (GNI) per capita for the top-ranking nations.\n",
    "\n",
    "<b>Importance:</b>\n",
    "This query offers a quick benchmark of leading countries in human development, aiding policymakers, development organizations, and analysts in strategic decision-making.\n",
    "\n",
    "<b>Future Work & Analysis:</b>\n",
    "The data can be leveraged for future analyses, including time-series evaluations, regional comparisons, and correlation studies to gain deeper insights into development trends.\n",
    "\n",
    "\n",
    "\n",
    "\n",
    "\n"
   ]
  },
  {
   "cell_type": "code",
   "execution_count": 18,
   "id": "3b3b7e21",
   "metadata": {},
   "outputs": [
    {
     "name": "stdout",
     "output_type": "stream",
     "text": [
      "('High', 66)\n",
      "('Low', 48)\n",
      "('Medium', 77)\n"
     ]
    },
    {
     "data": {
      "text/plain": [
       "True"
      ]
     },
     "execution_count": 18,
     "metadata": {},
     "output_type": "execute_result"
    }
   ],
   "source": [
    "# Define the SQL query to categorize countries based on their HDI values into 'Low', 'Medium', and 'High'\n",
    "range_countries_hdi = '''SELECT CASE WHEN hdi_value_index < 0.6 THEN 'Low'\n",
    "                                     WHEN hdi_value_index >= 0.6 AND hdi_value_index < 0.8 THEN 'Medium'\n",
    "                                     WHEN hdi_value_index >= 0.8 THEN 'High'\n",
    "                                END AS HDI_Range,\n",
    "                                COUNT(*) AS CountryCount\n",
    "                         FROM hdi_index_components\n",
    "                         GROUP BY HDI_Range;'''\n",
    "\n",
    "# Create a cursor for executing SQL queries\n",
    "range_countries_hdi_cursor = myconnection.cursor()\n",
    "\n",
    "try:\n",
    "    # Execute the SQL query\n",
    "    range_countries_hdi_cursor.execute(range_countries_hdi)\n",
    "\n",
    "    # Fetch all the rows from the result set\n",
    "    rows = range_countries_hdi_cursor.fetchall()\n",
    "\n",
    "    # Print or process the fetched rows\n",
    "    for row in rows:\n",
    "        print(row)\n",
    "\n",
    "except mysql.connector.Error as err:\n",
    "    # Handle MySQL-specific errors\n",
    "    if err.errno == errorcode.ER_BAD_DB_ERROR:\n",
    "        print('Error in query')\n",
    "    else:\n",
    "        print(err.msg)\n",
    "\n",
    "finally:\n",
    "    # Close the cursor to release resources\n",
    "    range_countries_hdi_cursor.close()\n"
   ]
  },
  {
   "cell_type": "markdown",
   "id": "ef17288c",
   "metadata": {},
   "source": [
    "<b>Query Purpose:</b>\n",
    "This SQL query categorizes countries by their Human Development Index (HDI) into Low, Medium, and High ranges, providing a count of countries in each category.\n",
    "\n",
    "<b>Summary:</b>\n",
    "The result offers a quick overview of country distribution based on development levels.\n",
    "\n",
    "<b>Importance:</b> Policy Insight: Aids in tailoring development strategies for countries in specific HDI categories.\n",
    "Progress Tracking: Provides a metric for monitoring overall development progress.\n",
    "\n",
    "<b>Future Work & Analysis:</b>\n",
    "\n",
    "Temporal Trends: Observing shifts in country distribution over time.</br>\n",
    "Regional Dynamics: Exploring variations in HDI distribution among different regions.</br>\n",
    "Correlation Studies: Investigating connections between HDI and other socio-economic indicators.\n",
    "\n",
    "This analysis serves as a foundation for future projects, supporting in-depth studies on country dynamics and informing targeted development policies."
   ]
  },
  {
   "cell_type": "code",
   "execution_count": 11,
   "id": "cfa1a6c0",
   "metadata": {},
   "outputs": [
    {
     "name": "stdout",
     "output_type": "stream",
     "text": [
      "('High', 78.73505424730706)\n",
      "('Medium', 70.86027957866719)\n",
      "('Low', 61.83335828781128)\n"
     ]
    },
    {
     "data": {
      "text/plain": [
       "True"
      ]
     },
     "execution_count": 11,
     "metadata": {},
     "output_type": "execute_result"
    }
   ],
   "source": [
    "# SQL query to calculate average life expectancy for different HDI ranges\n",
    "avg_life_expectancy = '''SELECT CASE WHEN hdi_value_index < 0.6 THEN 'Low'\n",
    "                                     WHEN hdi_value_index >= 0.6 AND hdi_value_index < 0.8 THEN 'Medium'\n",
    "                                     WHEN hdi_value_index >= 0.8 THEN 'High'\n",
    "                                END AS HDI_Range,\n",
    "                                AVG(life_expectancy_at_birth) AS AvgLifeExpectancy\n",
    "                         FROM hdi_index_components\n",
    "                         GROUP BY HDI_Range\n",
    "                         ORDER BY AvgLifeExpectancy DESC;'''\n",
    "\n",
    "# Create a cursor for executing SQL queries\n",
    "avg_life_cursor = myconnection.cursor()\n",
    "\n",
    "try:\n",
    "    # Execute the average life expectancy query\n",
    "    avg_life_cursor.execute(avg_life_expectancy)\n",
    "    \n",
    "    # Fetch all the rows from the query result\n",
    "    rows = avg_life_cursor.fetchall()\n",
    "    \n",
    "    # Print or process the fetched rows\n",
    "    for row in rows:\n",
    "        print(row)\n",
    "\n",
    "except mysql.connector.Error as err:\n",
    "    # Handle MySQL errors\n",
    "    if err.errno == errorcode.ER_BAD_DB_ERROR:\n",
    "        print('Error in query')\n",
    "    else:\n",
    "        print(err.msg)\n",
    "\n",
    "finally:\n",
    "    # Close the cursor to release resources\n",
    "    avg_life_cursor.close()\n"
   ]
  },
  {
   "cell_type": "markdown",
   "id": "64439fac",
   "metadata": {},
   "source": [
    "<b>Query Purpose:</b>\n",
    "The SQL query calculates the average life expectancy at birth for countries categorized into Low, Medium, and High Human Development Index (HDI) ranges. The purpose is to analyze how life expectancy varies across different levels of human development.<br>\n",
    "\n",
    "<b>Summary:</b>\n",
    "The result presents the average life expectancy for countries in each HDI range:<br>\n",
    "\n",
    "<ul>\n",
    "    <li><b>High HDI Range:</b> 78.74 years</li>\n",
    "    <li><b>Medium HDI Range:</b> 70.86 years</li>\n",
    "    <li><o><b>Low HDI Range:</b> 61.83 years</li>\n",
    "</ul>\n",
    "\n",
    "<b>Importance:</b>\n",
    "\n",
    "<b>Development Assessment:</b> Provides a holistic view of the relationship between HDI and life expectancy, aiding in assessing the overall development and well-being of countries.<br>\n",
    "\n",
    "<b>Policy Implications:</b> Helps policymakers understand the impact of human development on life expectancy, guiding the formulation of targeted health and development policies.<br>\n",
    "\n",
    "<b>Future Work & Analysis:</b><br>\n",
    "\n",
    "<b>Temporal Analysis:</b> Extend the study over multiple years to observe trends in average life expectancy within each HDI range over time.<br>\n",
    "\n",
    "<b>Correlation Studies:</b> Investigate correlations between life expectancy, HDI components, and other socio-economic indicators for a more comprehensive understanding of development dynamics.<br>\n",
    "\n",
    "<b>Healthcare Strategies:</b> Use the insights to inform strategies for improving healthcare systems in countries with lower life expectancies.<br>\n",
    "\n",
    "This analysis serves as a foundational element for future research, contributing valuable insights into the intricate interplay between human development and life expectancy."
   ]
  },
  {
   "cell_type": "markdown",
   "id": "eb124cc2",
   "metadata": {},
   "source": [
    "<b><u>Citations</u></b>\n",
    "\n",
    "[1] U. Nations, “Human Development Index,” United Nations. Available: https://hdr.undp.org/data-center/human-development-index. [Accessed: Nov. 06, 2023]\n",
    "\n",
    "[2] U. Nations, “Terms of use,” United Nations. Available: https://hdr.undp.org/terms-use. [Accessed: Nov. 06, 2023]\n",
    "\n",
    "[3] B. Herre, P. Arriagada, and M. Roser, “The Human Development Index and related indices: what they are and what we can learn from them,” Our World in Data, Nov. 2023, Available: https://ourworldindata.org/human-development-index. [Accessed: Nov. 06, 2023]\n",
    "\n",
    "[4] “What Is the Human Development Index (HDI)?,” Investopedia. Available: https://www.investopedia.com/terms/h/human-development-index-hdi.asp. [Accessed: Nov. 06, 2023]\n",
    "\n",
    "[5] G. Dongre, “What is Human Development Index?,” Medium, Jun. 12, 2021. Available: https://ganeshdongre.medium.com/what-is-human-development-index-9f2f991dfd88. [Accessed: Nov. 06, 2023]\n",
    "\n",
    "[6] Python mysql—Join. (2020, March 16). GeeksforGeeks. https://www.geeksforgeeks.org/python-mysql-join/\n"
   ]
  },
  {
   "cell_type": "code",
   "execution_count": null,
   "id": "97038639",
   "metadata": {},
   "outputs": [],
   "source": []
  }
 ],
 "metadata": {
  "kernelspec": {
   "display_name": "Python 3 (ipykernel)",
   "language": "python",
   "name": "python3"
  },
  "language_info": {
   "codemirror_mode": {
    "name": "ipython",
    "version": 3
   },
   "file_extension": ".py",
   "mimetype": "text/x-python",
   "name": "python",
   "nbconvert_exporter": "python",
   "pygments_lexer": "ipython3",
   "version": "3.11.4"
  }
 },
 "nbformat": 4,
 "nbformat_minor": 5
}
